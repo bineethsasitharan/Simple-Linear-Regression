{
 "cells": [
  {
   "cell_type": "markdown",
   "id": "c777c0a2",
   "metadata": {},
   "source": [
    "# Simple Linear Regression : Salary Prediction"
   ]
  },
  {
   "cell_type": "code",
   "execution_count": 1,
   "id": "18ebc0f4",
   "metadata": {},
   "outputs": [],
   "source": [
    "# importing required libraries\n",
    "import pandas as pd\n",
    "import numpy as np\n",
    "import matplotlib.pyplot as plt"
   ]
  },
  {
   "cell_type": "code",
   "execution_count": 2,
   "id": "1bb82761",
   "metadata": {},
   "outputs": [],
   "source": [
    "# loading dataset\n",
    "df = pd.read_csv('Salary_Data.xls')"
   ]
  },
  {
   "cell_type": "code",
   "execution_count": 3,
   "id": "5a6dd290",
   "metadata": {},
   "outputs": [
    {
     "data": {
      "text/html": [
       "<div>\n",
       "<style scoped>\n",
       "    .dataframe tbody tr th:only-of-type {\n",
       "        vertical-align: middle;\n",
       "    }\n",
       "\n",
       "    .dataframe tbody tr th {\n",
       "        vertical-align: top;\n",
       "    }\n",
       "\n",
       "    .dataframe thead th {\n",
       "        text-align: right;\n",
       "    }\n",
       "</style>\n",
       "<table border=\"1\" class=\"dataframe\">\n",
       "  <thead>\n",
       "    <tr style=\"text-align: right;\">\n",
       "      <th></th>\n",
       "      <th>YearsExperience</th>\n",
       "      <th>Salary</th>\n",
       "    </tr>\n",
       "  </thead>\n",
       "  <tbody>\n",
       "    <tr>\n",
       "      <th>0</th>\n",
       "      <td>1.1</td>\n",
       "      <td>39343.0</td>\n",
       "    </tr>\n",
       "    <tr>\n",
       "      <th>1</th>\n",
       "      <td>1.3</td>\n",
       "      <td>46205.0</td>\n",
       "    </tr>\n",
       "    <tr>\n",
       "      <th>2</th>\n",
       "      <td>1.5</td>\n",
       "      <td>37731.0</td>\n",
       "    </tr>\n",
       "    <tr>\n",
       "      <th>3</th>\n",
       "      <td>2.0</td>\n",
       "      <td>43525.0</td>\n",
       "    </tr>\n",
       "    <tr>\n",
       "      <th>4</th>\n",
       "      <td>2.2</td>\n",
       "      <td>39891.0</td>\n",
       "    </tr>\n",
       "  </tbody>\n",
       "</table>\n",
       "</div>"
      ],
      "text/plain": [
       "   YearsExperience   Salary\n",
       "0              1.1  39343.0\n",
       "1              1.3  46205.0\n",
       "2              1.5  37731.0\n",
       "3              2.0  43525.0\n",
       "4              2.2  39891.0"
      ]
     },
     "execution_count": 3,
     "metadata": {},
     "output_type": "execute_result"
    }
   ],
   "source": [
    "df.head()"
   ]
  },
  {
   "cell_type": "code",
   "execution_count": 4,
   "id": "1177b2b2",
   "metadata": {},
   "outputs": [
    {
     "data": {
      "text/plain": [
       "(30, 2)"
      ]
     },
     "execution_count": 4,
     "metadata": {},
     "output_type": "execute_result"
    }
   ],
   "source": [
    "df.shape"
   ]
  },
  {
   "cell_type": "code",
   "execution_count": 5,
   "id": "65fe8d65",
   "metadata": {},
   "outputs": [
    {
     "name": "stdout",
     "output_type": "stream",
     "text": [
      "<class 'pandas.core.frame.DataFrame'>\n",
      "RangeIndex: 30 entries, 0 to 29\n",
      "Data columns (total 2 columns):\n",
      " #   Column           Non-Null Count  Dtype  \n",
      "---  ------           --------------  -----  \n",
      " 0   YearsExperience  30 non-null     float64\n",
      " 1   Salary           30 non-null     float64\n",
      "dtypes: float64(2)\n",
      "memory usage: 608.0 bytes\n"
     ]
    }
   ],
   "source": [
    "df.info()"
   ]
  },
  {
   "cell_type": "code",
   "execution_count": 6,
   "id": "a3923f59",
   "metadata": {
    "scrolled": true
   },
   "outputs": [
    {
     "data": {
      "text/html": [
       "<div>\n",
       "<style scoped>\n",
       "    .dataframe tbody tr th:only-of-type {\n",
       "        vertical-align: middle;\n",
       "    }\n",
       "\n",
       "    .dataframe tbody tr th {\n",
       "        vertical-align: top;\n",
       "    }\n",
       "\n",
       "    .dataframe thead th {\n",
       "        text-align: right;\n",
       "    }\n",
       "</style>\n",
       "<table border=\"1\" class=\"dataframe\">\n",
       "  <thead>\n",
       "    <tr style=\"text-align: right;\">\n",
       "      <th></th>\n",
       "      <th>YearsExperience</th>\n",
       "      <th>Salary</th>\n",
       "    </tr>\n",
       "  </thead>\n",
       "  <tbody>\n",
       "    <tr>\n",
       "      <th>count</th>\n",
       "      <td>30.000000</td>\n",
       "      <td>30.000000</td>\n",
       "    </tr>\n",
       "    <tr>\n",
       "      <th>mean</th>\n",
       "      <td>5.313333</td>\n",
       "      <td>76003.000000</td>\n",
       "    </tr>\n",
       "    <tr>\n",
       "      <th>std</th>\n",
       "      <td>2.837888</td>\n",
       "      <td>27414.429785</td>\n",
       "    </tr>\n",
       "    <tr>\n",
       "      <th>min</th>\n",
       "      <td>1.100000</td>\n",
       "      <td>37731.000000</td>\n",
       "    </tr>\n",
       "    <tr>\n",
       "      <th>25%</th>\n",
       "      <td>3.200000</td>\n",
       "      <td>56720.750000</td>\n",
       "    </tr>\n",
       "    <tr>\n",
       "      <th>50%</th>\n",
       "      <td>4.700000</td>\n",
       "      <td>65237.000000</td>\n",
       "    </tr>\n",
       "    <tr>\n",
       "      <th>75%</th>\n",
       "      <td>7.700000</td>\n",
       "      <td>100544.750000</td>\n",
       "    </tr>\n",
       "    <tr>\n",
       "      <th>max</th>\n",
       "      <td>10.500000</td>\n",
       "      <td>122391.000000</td>\n",
       "    </tr>\n",
       "  </tbody>\n",
       "</table>\n",
       "</div>"
      ],
      "text/plain": [
       "       YearsExperience         Salary\n",
       "count        30.000000      30.000000\n",
       "mean          5.313333   76003.000000\n",
       "std           2.837888   27414.429785\n",
       "min           1.100000   37731.000000\n",
       "25%           3.200000   56720.750000\n",
       "50%           4.700000   65237.000000\n",
       "75%           7.700000  100544.750000\n",
       "max          10.500000  122391.000000"
      ]
     },
     "execution_count": 6,
     "metadata": {},
     "output_type": "execute_result"
    }
   ],
   "source": [
    "df.describe()"
   ]
  },
  {
   "cell_type": "code",
   "execution_count": 7,
   "id": "c5b6b5ed",
   "metadata": {},
   "outputs": [
    {
     "data": {
      "image/png": "[encoded data removed]",
      "text/plain": [
       "<Figure size 640x480 with 1 Axes>"
      ]
     },
     "metadata": {},
     "output_type": "display_data"
    }
   ],
   "source": [
    "# checking for outliers in the dataset using boxplot\n",
    "plt.boxplot(df['YearsExperience'])\n",
    "plt.show()"
   ]
  },
  {
   "cell_type": "code",
   "execution_count": 10,
   "id": "b08fee2f",
   "metadata": {},
   "outputs": [],
   "source": [
    "# getting independent variable and response variable from dataset\n",
    "X = df['YearsExperience'].values # independent variable\n",
    "y = df['Salary'].values # response variable"
   ]
  },
  {
   "cell_type": "code",
   "execution_count": 11,
   "id": "6f2ab9e5",
   "metadata": {},
   "outputs": [],
   "source": [
    "X = X.reshape(-1,1)\n",
    "y = y.reshape(-1,1)"
   ]
  },
  {
   "cell_type": "code",
   "execution_count": 13,
   "id": "486ad697",
   "metadata": {},
   "outputs": [
    {
     "data": {
      "image/png": "[encoded data removed]",
      "text/plain": [
       "<Figure size 640x480 with 1 Axes>"
      ]
     },
     "metadata": {},
     "output_type": "display_data"
    }
   ],
   "source": [
    "# knowing the relation between independent variable and response variable\n",
    "plt.scatter(X,y)\n",
    "plt.title('Relation between Years of Experience & Salary')\n",
    "plt.xlabel('YearsExperience')\n",
    "plt.ylabel('Salary')\n",
    "plt.show()"
   ]
  },
  {
   "cell_type": "code",
   "execution_count": 14,
   "id": "cf232ca3",
   "metadata": {},
   "outputs": [],
   "source": [
    "# choosing the machine learning model\n",
    "from sklearn.linear_model import LinearRegression\n",
    "model = LinearRegression()"
   ]
  },
  {
   "cell_type": "code",
   "execution_count": 17,
   "id": "1ff9c9c1",
   "metadata": {},
   "outputs": [],
   "source": [
    "# choosing cross validation model for training and testing\n",
    "from sklearn.model_selection import KFold\n",
    "k_fold = KFold(n_splits=5,shuffle=True,random_state=2)"
   ]
  },
  {
   "cell_type": "code",
   "execution_count": 19,
   "id": "858ad3f2",
   "metadata": {},
   "outputs": [
    {
     "name": "stdout",
     "output_type": "stream",
     "text": [
      "Train data index: [ 2  3  4  5  6  7  8 10 11 12 13 15 16 17 18 20 22 23 24 25 26 27 28 29]\n",
      "Test data index: [ 0  1  9 14 19 21]\n",
      "Train data index: [ 0  1  2  4  7  8  9 10 11 12 13 14 15 16 17 18 19 21 22 24 25 26 28 29]\n",
      "Test data index: [ 3  5  6 20 23 27]\n",
      "Train data index: [ 0  1  2  3  5  6  7  8  9 11 13 14 15 17 18 19 20 21 22 23 24 26 27 29]\n",
      "Test data index: [ 4 10 12 16 25 28]\n",
      "Train data index: [ 0  1  3  4  5  6  8  9 10 11 12 13 14 15 16 19 20 21 22 23 25 27 28 29]\n",
      "Test data index: [ 2  7 17 18 24 26]\n",
      "Train data index: [ 0  1  2  3  4  5  6  7  9 10 12 14 16 17 18 19 20 21 23 24 25 26 27 28]\n",
      "Test data index: [ 8 11 13 15 22 29]\n"
     ]
    }
   ],
   "source": [
    "for train_index, test_index in k_fold.split(X):\n",
    "    print(f'Train data index: {train_index}')\n",
    "    print(f'Test data index: {test_index}')"
   ]
  },
  {
   "cell_type": "code",
   "execution_count": 24,
   "id": "d67414e1",
   "metadata": {},
   "outputs": [
    {
     "data": {
      "text/plain": [
       "array([0.88869567, 0.95580004, 0.95003761, 0.98429027, 0.9365608 ])"
      ]
     },
     "execution_count": 24,
     "metadata": {},
     "output_type": "execute_result"
    }
   ],
   "source": [
    "# finding the cross validation score of the model\n",
    "from sklearn.model_selection import cross_val_score\n",
    "cv_scores = cross_val_score(model,X,y,cv=k_fold)\n",
    "cv_scores"
   ]
  },
  {
   "cell_type": "code",
   "execution_count": 25,
   "id": "e2446277",
   "metadata": {},
   "outputs": [
    {
     "data": {
      "text/plain": [
       "0.94307687798817"
      ]
     },
     "execution_count": 25,
     "metadata": {},
     "output_type": "execute_result"
    }
   ],
   "source": [
    "# mean of cross validation score\n",
    "cv_scores.mean()"
   ]
  },
  {
   "cell_type": "code",
   "execution_count": 29,
   "id": "c1a648a9",
   "metadata": {},
   "outputs": [
    {
     "data": {
      "text/plain": [
       "array([[ 34919.71472592],\n",
       "       [ 36833.63210301],\n",
       "       [ 40177.03934018],\n",
       "       [ 43970.03583768],\n",
       "       [ 47768.87337762],\n",
       "       [ 52483.04503801],\n",
       "       [ 53428.93494916],\n",
       "       [ 56031.28228442],\n",
       "       [ 56456.77179126],\n",
       "       [ 59800.64062805],\n",
       "       [ 63791.99912232],\n",
       "       [ 64068.36307476],\n",
       "       [ 64734.53593083],\n",
       "       [ 65019.81198519],\n",
       "       [ 67456.3101364 ],\n",
       "       [ 72631.40326869],\n",
       "       [ 75102.44082447],\n",
       "       [ 75615.93533319],\n",
       "       [ 81211.55048998],\n",
       "       [ 81810.69046455],\n",
       "       [ 89372.75157278],\n",
       "       [ 92337.23603852],\n",
       "       [101174.8705818 ],\n",
       "       [102615.21032885],\n",
       "       [107324.42122167],\n",
       "       [111861.37635644],\n",
       "       [114785.24143072],\n",
       "       [115857.66908492],\n",
       "       [124114.3548671 ],\n",
       "       [125912.54225315]])"
      ]
     },
     "execution_count": 29,
     "metadata": {},
     "output_type": "execute_result"
    }
   ],
   "source": [
    "# getting the predicted value by the model\n",
    "from sklearn.model_selection import cross_val_predict\n",
    "y_predict = cross_val_predict(model,X,y,cv=k_fold)\n",
    "y_predict"
   ]
  },
  {
   "cell_type": "code",
   "execution_count": 36,
   "id": "6df28c56",
   "metadata": {},
   "outputs": [
    {
     "name": "stdout",
     "output_type": "stream",
     "text": [
      "R2 Score: 0.9497278011098109\n",
      "MAE: 5041.355743426463\n",
      "MAPE: 0.07650066794431362\n",
      "RMSE: 6043.402632576591\n"
     ]
    }
   ],
   "source": [
    "# measuring the performance of the model\n",
    "from sklearn.metrics import r2_score, mean_absolute_error, mean_absolute_percentage_error, mean_squared_error\n",
    "r2 = r2_score(y,y_predict)\n",
    "mae = mean_absolute_error(y,y_predict)\n",
    "mape = mean_absolute_percentage_error(y,y_predict)\n",
    "mse = mean_squared_error(y,y_predict)\n",
    "rmse = np.sqrt(mse)\n",
    "print(f'R2 Score: {r2}')\n",
    "print(f'MAE: {mae}')\n",
    "print(f'MAPE: {mape}')\n",
    "print(f'RMSE: {rmse}')"
   ]
  },
  {
   "cell_type": "code",
   "execution_count": null,
   "id": "18e25b1e",
   "metadata": {},
   "outputs": [],
   "source": []
  }
 ],
 "metadata": {
  "kernelspec": {
   "display_name": "Python 3 (ipykernel)",
   "language": "python",
   "name": "python3"
  },
  "language_info": {
   "codemirror_mode": {
    "name": "ipython",
    "version": 3
   },
   "file_extension": ".py",
   "mimetype": "text/x-python",
   "name": "python",
   "nbconvert_exporter": "python",
   "pygments_lexer": "ipython3",
   "version": "3.9.16"
  }
 },
 "nbformat": 4,
 "nbformat_minor": 5
}
